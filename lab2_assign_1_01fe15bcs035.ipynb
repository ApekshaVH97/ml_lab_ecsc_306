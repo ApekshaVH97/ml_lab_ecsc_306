{
 "cells": [
  {
   "cell_type": "markdown",
   "metadata": {
    "slideshow": {
     "slide_type": "slide"
    }
   },
   "source": [
    "Write a program using tensorflow to build a stochastic gradient descent model for linear regression"
   ]
  },
  {
   "cell_type": "markdown",
   "metadata": {
    "slideshow": {
     "slide_type": "slide"
    }
   },
   "source": [
    "Part 1\n",
    "1. Co-effiecients m &c for y=mx+c are calculated for given values from previous assignment\n",
    "2. Start with 0 (zero ) value for  m & c .\n",
    "3. Using cost function \n",
    "$$J(\\beta) = \\frac{1}{2m}\\sum_{i=1}^m(h_\\beta(x^{(i)})-y^{(i)})^2$$\n",
    "where $(h_\\beta(x^{(i)})$ is prediction for present iteration\n",
    "$y^{(i)}$ is the prediction obtained from y=mx+c value\n",
    "4. Find the values of m & c by updating the values with learning rate of 0.005, 0.0005 etc and epoch value 100,500,1000\n",
    "\n"
   ]
  },
  {
   "cell_type": "markdown",
   "metadata": {
    "slideshow": {
     "slide_type": "slide"
    }
   },
   "source": [
    "Part 2\n",
    "1. Display the graph of decreasing cost function wrt learning rate and epoch\n",
    "2. Compare time complexity of tensorflow api and user defined function\n",
    "3. Start with random values of m & c . Analyse best approach for initial values of m & c.\n"
   ]
  },
  {
   "cell_type": "code",
   "execution_count": 26,
   "metadata": {},
   "outputs": [
    {
     "name": "stdout",
     "output_type": "stream",
     "text": [
      "1.25926\n",
      "2.7037\n",
      "1.82305\n",
      "8.90947\n",
      "7.10288\n",
      "3.89616\n",
      "-2.20258\n"
     ]
    }
   ],
   "source": [
    "## Calculate mean of  X and Y\n",
    "import tensorflow as tf\n",
    "x=tf.constant([1,2,3],dtype=tf.float32)\n",
    "y=tf.constant([4,5,6],dtype=tf.float32)\n",
    "x_mean=0\n",
    "y_mean=0\n",
    "for i in range(0,3):\n",
    "    with tf.name_scope(\"mean_x\"):\n",
    "        x_mean=tf.add(x[i],x_mean)\n",
    "    with tf.name_scope(\"mean_y\"):\n",
    "        y_mean=tf.add(y[i],y_mean)\n",
    "    x_mean=tf.div(x_mean,3)\n",
    "    y_mean=tf.div(y_mean,3)\n",
    "            \n",
    "    \n",
    "    ##variance(x)=sum((x−mean(x))2\n",
    "\n",
    "\n",
    "var_x=0\n",
    "var_y=0\n",
    "for i in range(0,3):\n",
    "     var_x=tf.add(tf.pow(tf.subtract(x[i],x_mean),2),var_x)\n",
    "     var_y=tf.add(tf.pow(tf.subtract(y[i],y_mean),2),var_y)\n",
    "with tf.name_scope(\"variance_X\"):\n",
    "         var_x=tf.div(var_x,2)\n",
    "with tf.name_scope(\"variance_Y\"):\n",
    "         var_y=tf.div(var_y,2)\n",
    "        \n",
    "#covariance=sum((x(i)−mean(x))∗(y(i)−mean(y)))\n",
    "\n",
    "with tf.name_scope(\"Covariance\"):\n",
    "    covar=0\n",
    "    for i in range(0,3):\n",
    "        covar=tf.add(tf.multiply(tf.subtract(x[i],x_mean),tf.subtract(y[i],y_mean)),covar)\n",
    "    \n",
    "#m=covariance(x,y)/variance(x)\n",
    "\n",
    "with tf.name_scope(\"value_of_m\"):\n",
    "    m=tf.div(covar,var_x)\n",
    "   \n",
    "    #c=mean(y)−m∗mean(x)\n",
    "with tf.name_scope(\"value_of_c\"):\n",
    "    c=tf.subtract(y_mean,tf.multiply(m,x_mean))\n",
    "\n",
    "    \n",
    "\n",
    "\n",
    "with tf.Session() as sess:\n",
    "    print(sess.run(x_mean))\n",
    "    print(sess.run(y_mean))\n",
    "    print(sess.run(var_x))\n",
    "    print(sess.run(var_y))\n",
    "    print(sess.run(covar))\n",
    "    print(sess.run(m))\n",
    "    print(sess.run(c))\n"
   ]
  },
  {
   "cell_type": "code",
   "execution_count": 27,
   "metadata": {},
   "outputs": [
    {
     "name": "stdout",
     "output_type": "stream",
     "text": [
      "[ 1.6935873   5.58975029  9.48591232]\n"
     ]
    }
   ],
   "source": [
    "z=tf.multiply(m,x)\n",
    "h=tf.add(c,z)\n",
    "with tf.Session() as sess: mklmnkln\n",
    "    print(sess.run(h))"
   ]
  },
  {
   "cell_type": "code",
   "execution_count": 28,
   "metadata": {},
   "outputs": [
    {
     "name": "stdout",
     "output_type": "stream",
     "text": [
      "The Gradient\n",
      "8.90946\n"
     ]
    }
   ],
   "source": [
    "with tf.name_scope(\"z\"):\n",
    "     z=tf.reduce_sum(tf.pow(tf.subtract(h,y),2))\n",
    "        \n",
    "    ##cost function\n",
    "with tf.name_scope(\"value_of_cost_funtion\"):\n",
    "       cost_func=tf.div(z,2)\n",
    "        \n",
    "with tf.Session() as sess:\n",
    "    print(\"The Gradient\")    \n",
    "    print(sess.run(cost_func))"
   ]
  },
  {
   "cell_type": "code",
   "execution_count": null,
   "metadata": {
    "collapsed": true
   },
   "outputs": [],
   "source": []
  }
 ],
 "metadata": {
  "celltoolbar": "Slideshow",
  "kernelspec": {
   "display_name": "Python 3",
   "language": "python",
   "name": "python3"
  },
  "language_info": {
   "codemirror_mode": {
    "name": "ipython",
    "version": 3
   },
   "file_extension": ".py",
   "mimetype": "text/x-python",
   "name": "python",
   "nbconvert_exporter": "python",
   "pygments_lexer": "ipython3",
   "version": "3.6.1"
  }
 },
 "nbformat": 4,
 "nbformat_minor": 2
}
