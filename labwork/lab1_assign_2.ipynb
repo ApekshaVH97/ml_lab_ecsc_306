{
 "cells": [
  {
   "cell_type": "markdown",
   "metadata": {
    "slideshow": {
     "slide_type": "slide"
    }
   },
   "source": [
    "Write a program using tensorflow to calculate : \n",
    "    $$y=mx+c$$"
   ]
  },
  {
   "cell_type": "markdown",
   "metadata": {
    "slideshow": {
     "slide_type": "slide"
    }
   },
   "source": [
    "### Part 1\n",
    "\n",
    "1. Read 2 arrays x,y containing floating point values\n",
    "2. Calculate mean of x & y\n",
    "3. Calculate variance for x\n",
    "    $$variance(x)=sum((x-mean(x))^2)$$\n",
    "4. Calculate covariance of x & y\n",
    "    $$covariance = sum((x(i) - mean(x)) * (y(i) - mean(y)))$$\n",
    "5. Calculate value of m\n",
    "    $$m = covariance(x,y)/variance(x)$$\n",
    "6. Calculate value of c\n",
    "    $$c = mean(y) -m* mean(x)$$\n",
    "    "
   ]
  },
  {
   "cell_type": "markdown",
   "metadata": {
    "slideshow": {
     "slide_type": "slide"
    }
   },
   "source": [
    "### Part 2\n",
    "\n",
    "1. Plot graph for actual values against predicted value\n",
    "2. Calculate root mean square error."
   ]
  },
  {
   "cell_type": "code",
   "execution_count": 11,
   "metadata": {},
   "outputs": [
    {
     "name": "stdout",
     "output_type": "stream",
     "text": [
      "1.25926\n",
      "3.18519\n",
      "1.82305\n",
      "12.8848\n",
      "8.25514\n",
      "4.52822\n",
      "-2.51701\n"
     ]
    }
   ],
   "source": [
    "## Calculate mean of  X and Y\n",
    "import tensorflow as tf\n",
    "x=tf.constant([1,2,3],dtype=tf.float32)\n",
    "y=tf.constant([5,6,7],dtype=tf.float32)\n",
    "x_mean=0\n",
    "y_mean=0\n",
    "for i in range(0,3):\n",
    "    with tf.name_scope(\"mean_x\"):\n",
    "        x_mean=tf.add(x[i],x_mean)\n",
    "    with tf.name_scope(\"mean_y\"):\n",
    "        y_mean=tf.add(y[i],y_mean)\n",
    "    x_mean=tf.div(x_mean,3)\n",
    "    y_mean=tf.div(y_mean,3)\n",
    "            \n",
    "    \n",
    "    ##variance(x)=sum((x−mean(x))2\n",
    "\n",
    "\n",
    "var_x=0\n",
    "var_y=0\n",
    "for i in range(0,3):\n",
    "     var_x=tf.add(tf.pow(tf.subtract(x[i],x_mean),2),var_x)\n",
    "     var_y=tf.add(tf.pow(tf.subtract(y[i],y_mean),2),var_y)\n",
    "with tf.name_scope(\"variance_X\"):\n",
    "         var_x=tf.div(var_x,2)\n",
    "with tf.name_scope(\"variance_Y\"):\n",
    "         var_y=tf.div(var_y,2)\n",
    "        \n",
    "#covariance=sum((x(i)−mean(x))∗(y(i)−mean(y)))\n",
    "\n",
    "with tf.name_scope(\"Covariance\"):\n",
    "    covar=0\n",
    "    for i in range(0,3):\n",
    "        covar=tf.add(tf.multiply(tf.subtract(x[i],x_mean),tf.subtract(y[i],y_mean)),covar)\n",
    "    \n",
    "#m=covariance(x,y)/variance(x)\n",
    "\n",
    "with tf.name_scope(\"value_of_m\"):\n",
    "    m=tf.div(covar,var_x)\n",
    "   \n",
    "    #c=mean(y)−m∗mean(x)\n",
    "with tf.name_scope(\"value_of_c\"):\n",
    "    c=tf.subtract(y_mean,tf.multiply(m,x_mean))\n",
    "with tf.Session() as sess:\n",
    "    print(sess.run(x_mean))\n",
    "    print(sess.run(y_mean))\n",
    "    print(sess.run(var_x))\n",
    "    print(sess.run(var_y))\n",
    "    print(sess.run(covar))\n",
    "    print(sess.run(m))\n",
    "    print(sess.run(c))"
   ]
  },
  {
   "cell_type": "code",
   "execution_count": 15,
   "metadata": {},
   "outputs": [
    {
     "name": "stderr",
     "output_type": "stream",
     "text": [
      "/home/swapna/anaconda3/lib/python3.6/site-packages/matplotlib/axes/_axes.py:545: UserWarning: No labelled objects found. Use label='...' kwarg on individual plots.\n",
      "  warnings.warn(\"No labelled objects found. \"\n"
     ]
    },
    {
     "data": {
      "image/png": "[encoded data removed]",
      "text/plain": [
       "<matplotlib.figure.Figure at 0x7f56a4334518>"
      ]
     },
     "metadata": {},
     "output_type": "display_data"
    }
   ],
   "source": [
    "import matplotlib.pyplot as plt\n",
    "with tf.Session() as sess:\n",
    "    x=tf.constant([1,2,3],dtype=tf.float32)\n",
    "    y=tf.constant([5,6,7],dtype=tf.float32)\n",
    "    ##z=tf.add(tf.multiply(m,x[i]),c)\n",
    "    ##y.append(z)\n",
    "    plt.plot(sess.run(x),sess.run(y))\n",
    "    ##plt.plot(ranX2,ranY, label='fitted line')\n",
    "    plt.legend()\n",
    "    plt.show()\n"
   ]
  },
  {
   "cell_type": "code",
   "execution_count": null,
   "metadata": {
    "collapsed": true
   },
   "outputs": [],
   "source": []
  }
 ],
 "metadata": {
  "celltoolbar": "Slideshow",
  "kernelspec": {
   "display_name": "Python 3",
   "language": "python",
   "name": "python3"
  },
  "language_info": {
   "codemirror_mode": {
    "name": "ipython",
    "version": 3
   },
   "file_extension": ".py",
   "mimetype": "text/x-python",
   "name": "python",
   "nbconvert_exporter": "python",
   "pygments_lexer": "ipython3",
   "version": "3.6.1"
  }
 },
 "nbformat": 4,
 "nbformat_minor": 2
}
